{
  "nbformat": 4,
  "nbformat_minor": 0,
  "metadata": {
    "colab": {
      "provenance": []
    },
    "kernelspec": {
      "name": "python3",
      "display_name": "Python 3"
    },
    "language_info": {
      "name": "python"
    }
  },
  "cells": [
    {
      "cell_type": "markdown",
      "source": [
        "1. Sum of given \"n\" numbers"
      ],
      "metadata": {
        "id": "VxzM9wwI_FmM"
      }
    },
    {
      "cell_type": "code",
      "execution_count": 3,
      "metadata": {
        "colab": {
          "base_uri": "https://localhost:8080/"
        },
        "id": "qLIcnUp9_E4p",
        "outputId": "bfd02727-bbbb-4fbc-950c-97d1f2d8fd59"
      },
      "outputs": [
        {
          "output_type": "stream",
          "name": "stdout",
          "text": [
            "3\n",
            "1 2 3\n",
            "6\n"
          ]
        }
      ],
      "source": [
        "from functools import reduce\n",
        "#input the integers\n",
        "n= int(input())\n",
        "#defining the function nsum that retunrs sum\n",
        "def nsum(x,y):\n",
        "    return int(x)+int(y)\n",
        "#boundary condition check\n",
        "if n>100 or n<=0:\n",
        "    print(0)\n",
        "else :\n",
        "    numbers = input()\n",
        "    nlist = numbers.split()\n",
        "    #boundary condition check\n",
        "    if n != len(nlist):\n",
        "        print(\"Error\")\n",
        "        exit()\n",
        "    #calling the nsum function\n",
        "    summ = reduce(nsum, nlist)\n",
        "    print(summ)"
      ]
    },
    {
      "cell_type": "markdown",
      "source": [
        "2. Find the second largest element in a list of integers"
      ],
      "metadata": {
        "id": "PI0MZjpc_u2c"
      }
    },
    {
      "cell_type": "code",
      "source": [
        "#input the String of numbers\n",
        "input_str = input()\n",
        "#split string to list of integers\n",
        "int_list = list(map(int,input_str.split(',')))\n",
        "#boundary condition checking\n",
        "if(len(int_list) < 2 or len(int_list) > 100000):\n",
        "    print(\"Error\")\n",
        "    exit()\n",
        "#Sorting the list to extract max\n",
        "sorted_list = sorted(int_list,reverse=True)\n",
        "#Checking if the second max exists\n",
        "if sorted_list.count(sorted_list[0]) == len(int_list):\n",
        "    print(\"Error\")\n",
        "    exit()\n",
        "#Creating new list without the max element\n",
        "in_list_2 = [i for i in int_list if i != sorted_list[0]]\n",
        "#Sorting the new list to get the second max\n",
        "sorted_list = sorted(in_list_2,reverse=True)\n",
        "print(sorted_list[0])"
      ],
      "metadata": {
        "colab": {
          "base_uri": "https://localhost:8080/"
        },
        "id": "NjUQF-Yi_3dH",
        "outputId": "6c6f71b9-48ca-4ae3-9233-7826725b770b"
      },
      "execution_count": 5,
      "outputs": [
        {
          "output_type": "stream",
          "name": "stdout",
          "text": [
            "1,3,2\n",
            "2\n"
          ]
        }
      ]
    },
    {
      "cell_type": "markdown",
      "source": [
        "3. Fizz Buzz-11. Write a program that prints the numbers from 1 to n. For multiples of ‘3’ print “Fizz” instead of the number and for the multiples of ‘5’ print “Buzz” instead of the the number itself. If a number is a multiple of 3 and 5 both, print \"FizzBuzz\"."
      ],
      "metadata": {
        "id": "Uo9aSJmWAJry"
      }
    },
    {
      "cell_type": "code",
      "source": [
        "#input the range of numbers\n",
        "num = int(input())\n",
        "#check boundary condition\n",
        "if(num < 1 or num > 10000):\n",
        "    print(\"Error\")\n",
        "    exit()\n",
        "#create list for the range of numbers\n",
        "in_list = [i for i in range(num+1) if i != 0]\n",
        "#defining function to replace the integers with string\n",
        "def fizzbuzz(val):\n",
        "    if val % 15 == 0:\n",
        "        return 'FizzBuzz'\n",
        "    if val % 5 == 0:\n",
        "        return 'Buzz'\n",
        "    if val % 3 == 0:\n",
        "        return 'Fizz'\n",
        "    return val\n",
        "#calling map to create new list\n",
        "fizz_list = list(map(fizzbuzz,in_list))\n",
        "#print the list with comma separator\n",
        "print(*fizz_list, sep =',') "
      ],
      "metadata": {
        "colab": {
          "base_uri": "https://localhost:8080/"
        },
        "id": "uMcIwU84AUhZ",
        "outputId": "abbd1594-461d-4e8f-b8e4-823c2b84550c"
      },
      "execution_count": 6,
      "outputs": [
        {
          "output_type": "stream",
          "name": "stdout",
          "text": [
            "5\n",
            "1,2,Fizz,4,Buzz\n"
          ]
        }
      ]
    },
    {
      "cell_type": "markdown",
      "source": [
        "4. Climbing Stairs. \n",
        "   You are climbing a staircase. It takes \"n\" steps to reach the top.\n",
        "\n",
        "   Each time you can either climb 1 or 2 steps. In how many distinct ways can you climb to the top?"
      ],
      "metadata": {
        "id": "j5BCLOZ1Aev-"
      }
    },
    {
      "cell_type": "code",
      "source": [
        "import math\n",
        "#defining factorial function\n",
        "def fact(n) :\n",
        "    if n==0:\n",
        "      return 1\n",
        "    if n==1:\n",
        "      return 1\n",
        "    return n*fact(n-1)\n",
        "#input number of steps\n",
        "steps = int(input())\n",
        "#check boundary condition\n",
        "if steps > 30 or steps < 1 :\n",
        "    print(\"Error\")\n",
        "#assigning the divisor and reminder of 2 to i and j\n",
        "i = math.floor(steps / 2)\n",
        "j = steps % 2\n",
        "ways = 0\n",
        "while True :\n",
        "  if i < 0:\n",
        "    break\n",
        "  ways = ways + (fact(i+j)/(fact(i)*fact(j)))\n",
        "  i = i - 1\n",
        "  j = j + 2\n",
        "print(int(ways))"
      ],
      "metadata": {
        "colab": {
          "base_uri": "https://localhost:8080/"
        },
        "id": "ckLraoTpAp5j",
        "outputId": "2c911b91-80a6-4621-f51c-ca8ce6b08a93"
      },
      "execution_count": 7,
      "outputs": [
        {
          "output_type": "stream",
          "name": "stdout",
          "text": [
            "21\n",
            "17711\n"
          ]
        }
      ]
    },
    {
      "cell_type": "markdown",
      "source": [
        "5. Find any of the peak elements\n",
        "   A peak element is an element that is strictly greater than its neighbors.\n",
        "\n",
        "   Given an integer array \"a\", find a peak element, and return its index.\n",
        "\n",
        "   You may imagine that a[-1] = a[n] = -∞.\n",
        "\n",
        "   Design a O(lg(n)) time & O(1) space algorithm.\n",
        "\n",
        "   Sample Input :\n",
        "   2,0,1,4,5,8,4\n",
        "\n",
        "   Sample Output:\n",
        "   5"
      ],
      "metadata": {
        "id": "Jm0GZGniBKL9"
      }
    },
    {
      "cell_type": "code",
      "source": [
        "a = list(map(int,input().split(\",\")))\n",
        "peakflag = 0;\n",
        "for i in range(1,len(a)-1):\n",
        "  if((a[i] > a[i-1]) and (a[i] > a[i+1])) :\n",
        "    peakflag = 1;\n",
        "    print(i);\n",
        "    break;\n",
        "if(peakflag == 0):\n",
        "    if(a[0] > a[len(a)-1]) :\n",
        "      print(0)\n",
        "    else :\n",
        "      print(len(a)-1)"
      ],
      "metadata": {
        "colab": {
          "base_uri": "https://localhost:8080/"
        },
        "id": "0agSsPcuBS0j",
        "outputId": "49e52b5d-665b-480a-b23c-dd3845a1293e"
      },
      "execution_count": 9,
      "outputs": [
        {
          "output_type": "stream",
          "name": "stdout",
          "text": [
            "2,0,1,4,5,8,4\n",
            "5\n"
          ]
        }
      ]
    },
    {
      "cell_type": "markdown",
      "source": [
        "6. Longest Arithmetic subsequence.\n",
        "   Given an array A of integers, return the length of the longest arithmetic    subsequence in A.\n",
        "\n",
        "Recall that a subsequence of A is a list A[i_1], A[i_2], ..., A[i_k] with 0 <= i_1 < i_2 < ... < i_k <= A.length - 1, and that a sequence B is arithmetic if B[i+1] - B[i] are all the same value (for 0 <= i < B.length - 1).\n",
        "\n",
        "Sample Input: \n",
        "2,4,6,8\n",
        "\n",
        "Sample Output:\n",
        "4"
      ],
      "metadata": {
        "id": "OLpD7ynjB2ri"
      }
    },
    {
      "cell_type": "code",
      "source": [
        "from collections import Counter\n",
        "\n",
        "s = input().split(\",\")\n",
        "a = [int(i) for i in s]\n",
        "c = []\n",
        "[c.append(x) for x in a if x not in c]\n",
        "b = []\n",
        "for i in range(0,len(c)-1) :\n",
        "  for j in range(i+1,len(c)) :\n",
        "    b.append(c[i] - c[j])\n",
        "for element in c:\n",
        "  if a.count(element) > 1:\n",
        "    for i in range(a.count(element)-1) :\n",
        "      b.append(0)\n",
        "occurence_count = Counter(b);\n",
        "print(abs(occurence_count.most_common(1)[0][1]) + 1)"
      ],
      "metadata": {
        "colab": {
          "base_uri": "https://localhost:8080/"
        },
        "id": "-06dpl9pCL8m",
        "outputId": "7eb5dbe4-56e8-4741-957d-addf479eeab7"
      },
      "execution_count": 10,
      "outputs": [
        {
          "output_type": "stream",
          "name": "stdout",
          "text": [
            "2,4,6,8\n",
            "4\n"
          ]
        }
      ]
    },
    {
      "cell_type": "markdown",
      "source": [
        "7. Shape and Reshape\n",
        "   The shape tool gives a tuple of array dimensions and can be used to change the dimensions of an array.\n",
        "     Sample Input : 1 2 3 4 5 6 7 8 9\n",
        "     Sample Output:\n",
        "   [[1 2 3]\n",
        "    [4 5 6]\n",
        "    [7 8 9]]"
      ],
      "metadata": {
        "id": "WZTrcw3tCV1s"
      }
    },
    {
      "cell_type": "code",
      "source": [
        "import numpy\n",
        "numbers = input()\n",
        "nlist = numbers.split()\n",
        "my_array = numpy.asarray(nlist,int)\n",
        "print(numpy.reshape(my_array,(3,3)))"
      ],
      "metadata": {
        "colab": {
          "base_uri": "https://localhost:8080/"
        },
        "id": "q_aJ6k1ECUwf",
        "outputId": "ebc9cdda-5d69-4f2f-d2b8-86168632f213"
      },
      "execution_count": 11,
      "outputs": [
        {
          "output_type": "stream",
          "name": "stdout",
          "text": [
            "1 2 3 4 5 6 7 8 9\n",
            "[[1 2 3]\n",
            " [4 5 6]\n",
            " [7 8 9]]\n"
          ]
        }
      ]
    },
    {
      "cell_type": "markdown",
      "source": [
        "8. Min and Max. \n",
        "   min\n",
        "   The tool min returns the minimum value along a given axis.\n",
        "   max\n",
        "   The tool max returns the maximum value along a given axis."
      ],
      "metadata": {
        "id": "EMzh31eODA8t"
      }
    },
    {
      "cell_type": "code",
      "source": [
        "import numpy\n",
        "dim = list(map(int,input().split()))\n",
        "o_arr = numpy.empty((0,dim[1]),int)\n",
        "for i in range(dim[0]) :\n",
        "  nlist = list(map(int,input().split()))\n",
        "  o_arr = numpy.append(o_arr,[[nlist]])\n",
        "o_arr = o_arr.reshape(dim[0],dim[1])\n",
        "print(numpy.max(numpy.min(o_arr, axis = 1)))"
      ],
      "metadata": {
        "colab": {
          "base_uri": "https://localhost:8080/"
        },
        "id": "1GUJxQXiDXGQ",
        "outputId": "a4fb01c7-3b36-4b24-b306-2d4f1a97d300"
      },
      "execution_count": 12,
      "outputs": [
        {
          "output_type": "stream",
          "name": "stdout",
          "text": [
            "4 3 2\n",
            "3 4 5\n",
            "1 2 3\n",
            "2 3 4\n",
            "1 2 3\n",
            "3\n"
          ]
        }
      ]
    },
    {
      "cell_type": "markdown",
      "source": [
        "9. Concatenate. Two or more arrays can be concatenated together using the concatenate function with a tuple of the arrays to be joined:"
      ],
      "metadata": {
        "id": "UbP_BFovDv8E"
      }
    },
    {
      "cell_type": "code",
      "source": [
        "import numpy\n",
        "N,M,P = list(map(int,input().split()))\n",
        "n_arr = numpy.empty((0,P),int)\n",
        "m_arr = numpy.empty((0,P),int)\n",
        "for i in range(N) :\n",
        "  nlist = list(map(int,input().split()))\n",
        "  n_arr = numpy.append(n_arr,[[nlist]])\n",
        "n_arr = n_arr.reshape(N,P)\n",
        "for i in range(M) :\n",
        "  nlist = list(map(int,input().split()))\n",
        "  m_arr = numpy.append(m_arr,[[nlist]])\n",
        "m_arr = m_arr.reshape(M,P)\n",
        "print(numpy.concatenate((n_arr, m_arr), axis = 0) )"
      ],
      "metadata": {
        "colab": {
          "base_uri": "https://localhost:8080/"
        },
        "id": "3xcpISE6D8la",
        "outputId": "37729d19-e1e6-4503-81a5-45d4f4220160"
      },
      "execution_count": 14,
      "outputs": [
        {
          "output_type": "stream",
          "name": "stdout",
          "text": [
            "2 2 2\n",
            "1 2\n",
            "2 3\n",
            "3 4\n",
            "3 4\n",
            "[[1 2]\n",
            " [2 3]\n",
            " [3 4]\n",
            " [3 4]]\n"
          ]
        }
      ]
    },
    {
      "cell_type": "markdown",
      "source": [
        "10. Eye and Identity. The identity tool returns an identity array. An identity array is a square matrix with all the main diagonal elements as  and the rest as . The default type of elements is float."
      ],
      "metadata": {
        "id": "xxzrlW3jEN5z"
      }
    },
    {
      "cell_type": "code",
      "source": [
        "import numpy\n",
        "numpy.set_printoptions(legacy = '1.13')\n",
        "N,M = list(map(int,input().split()))\n",
        "print(numpy.eye(N, M, k = 0))"
      ],
      "metadata": {
        "colab": {
          "base_uri": "https://localhost:8080/"
        },
        "id": "r68u28XVENPL",
        "outputId": "891e4068-63c0-4a3e-e1a9-5ca428c1f889"
      },
      "execution_count": 16,
      "outputs": [
        {
          "output_type": "stream",
          "name": "stdout",
          "text": [
            "3 4\n",
            "[[ 1.  0.  0.  0.]\n",
            " [ 0.  1.  0.  0.]\n",
            " [ 0.  0.  1.  0.]]\n"
          ]
        }
      ]
    },
    {
      "cell_type": "markdown",
      "source": [
        "11. Dot and Cross. \n",
        "    The dot tool returns the dot product of two arrays.\n",
        "    The cross tool returns the cross product of two arrays."
      ],
      "metadata": {
        "id": "RABNdx5gEq3s"
      }
    },
    {
      "cell_type": "code",
      "source": [
        "import numpy\n",
        "N = int(input())\n",
        "A = numpy.empty((0,N),int)\n",
        "B = numpy.empty((0,N),int)\n",
        "for i in range(N) :\n",
        "  nlist = list(map(int,input().split()))\n",
        "  A = numpy.append(A,[[nlist]])\n",
        "A = A.reshape(N,N)\n",
        "for i in range(N) :\n",
        "  nlist = list(map(int,input().split()))\n",
        "  B = numpy.append(B,[[nlist]])\n",
        "B = B.reshape(N,N)\n",
        "\n",
        "print(numpy.dot(A,B))"
      ],
      "metadata": {
        "colab": {
          "base_uri": "https://localhost:8080/"
        },
        "id": "zyVwTtU1FDzb",
        "outputId": "ad98cc41-1582-4910-9492-5039d7baa9e9"
      },
      "execution_count": 17,
      "outputs": [
        {
          "output_type": "stream",
          "name": "stdout",
          "text": [
            "2\n",
            "1 2\n",
            "3 4\n",
            "1 3\n",
            "2  4\n",
            "[[ 5 11]\n",
            " [11 25]]\n"
          ]
        }
      ]
    },
    {
      "cell_type": "code",
      "source": [
        "import numpy\n",
        "N = int(input())\n",
        "A = numpy.empty((0,N),int)\n",
        "B = numpy.empty((0,N),int)\n",
        "C = numpy.empty((N,N),int)\n",
        "D = numpy.empty((N,N),int)\n",
        "\n",
        "for i in range(N) :\n",
        "  nlist = list(map(int,input().split()))\n",
        "  A = numpy.append(A,[[nlist]])\n",
        "A = A.reshape(N,N)\n",
        "for i in range(N) :\n",
        "  nlist = list(map(int,input().split()))\n",
        "  B = numpy.append(B,[[nlist]])\n",
        "B = B.reshape(N,N)\n",
        "for i in range(N) :\n",
        "    for j in range(N) :\n",
        "      C[i-1][j-1] = B[j-1][i-1]\n",
        "for i in range(N) :\n",
        "    for j in range(N) :\n",
        "      D[i-1][j-1] = numpy.dot(A[i-1],C[j-1])\n",
        "print(D)"
      ],
      "metadata": {
        "colab": {
          "base_uri": "https://localhost:8080/"
        },
        "id": "XZsm_vWnFeu4",
        "outputId": "43b07049-1ef6-4627-c9f4-32e4a9969009"
      },
      "execution_count": 18,
      "outputs": [
        {
          "output_type": "stream",
          "name": "stdout",
          "text": [
            "2\n",
            "1 2\n",
            "3 4\n",
            "1 4\n",
            "2 4\n",
            "[[ 5 12]\n",
            " [11 28]]\n"
          ]
        }
      ]
    },
    {
      "cell_type": "markdown",
      "source": [
        "12. Find a real valued \"x\" such that x^5 - x^4 + 2*x^3 - x^2 + x = 3. Print the result to 5 decimal places of accuracy"
      ],
      "metadata": {
        "id": "06rflFewFkug"
      }
    },
    {
      "cell_type": "code",
      "source": [
        "import math\n",
        "def f(x):\n",
        "    return x**5 - x**4 + 2*x**3 - x**2 + x - 3;\n",
        "x_l =0;\n",
        "x_u =1;\n",
        "while(True) :\n",
        "  if ((f(x_l) < 0) and (f(x_u) > 0)):\n",
        "    break;\n",
        "  if ((f(x_l) < 0) and (f(x_u) < 0)):\n",
        "    x_l = x_l+1;\n",
        "    x_u = x_u+1;\n",
        "  if ((f(x_l) > 0) and (f(x_u) > 0)):\n",
        "    x_l = x_l-1;\n",
        "    x_u = x_u-1;\n",
        "x = (x_u + x_l)/ 2;\n",
        "#iterate\n",
        "while (abs(f(x)) > 0.00001): # till we are very close to zero   \n",
        "    x = (x_u + x_l)/ 2;\n",
        "    if f(x) > 0: # adjust x_l\n",
        "        x_u = x;\n",
        "    else: # adjust x_u\n",
        "        x_l = x; \n",
        "print(\"%0.5f\" % x)"
      ],
      "metadata": {
        "colab": {
          "base_uri": "https://localhost:8080/"
        },
        "id": "kfUl1-8PFut7",
        "outputId": "2c220975-8a3b-425f-8f16-afec80de5bc9"
      },
      "execution_count": 19,
      "outputs": [
        {
          "output_type": "stream",
          "name": "stdout",
          "text": [
            "1.13555\n"
          ]
        }
      ]
    },
    {
      "cell_type": "markdown",
      "source": [
        "13. Area between curves.Compute the area between curves x^3 and e^x for x in the range +0 and +4 Note that curves these intersect in this region. To plot them using Google Search, just type: \"plot (e^x) and (x^3)\""
      ],
      "metadata": {
        "id": "uyOT4aOiG4A4"
      }
    },
    {
      "cell_type": "code",
      "source": [
        "import math\n",
        "import numpy\n",
        "def epowerx(x):\n",
        "  return math.exp(x)\n",
        "\n",
        "def xpower3(x):\n",
        "  return x**3\n",
        "Area = 0\n",
        "step = 0.001\n",
        "for i in numpy.arange(0,4,step):\n",
        "  Axpower3 = ((xpower3(i) + xpower3(i+step))*step)/2;\n",
        "  Aepowerx = ((epowerx(i) + epowerx(i+step))*step)/2;\n",
        "  Area = Area + abs(Aepowerx - Axpower3);\n",
        "print(Area)"
      ],
      "metadata": {
        "colab": {
          "base_uri": "https://localhost:8080/"
        },
        "id": "OyEehyavHLH9",
        "outputId": "c5b14fdf-8f30-43ad-a0da-6899696b9372"
      },
      "execution_count": 21,
      "outputs": [
        {
          "output_type": "stream",
          "name": "stdout",
          "text": [
            "15.2649373022\n"
          ]
        }
      ]
    },
    {
      "cell_type": "markdown",
      "source": [
        "14. Implement basic metrics in Stats from scratch"
      ],
      "metadata": {
        "id": "Q_hSzu_qHztu"
      }
    },
    {
      "cell_type": "code",
      "source": [
        "import numpy as np\n",
        "import math\n",
        "#numbs = [1,2,3,3,4,4,5,5,5,7,8,6]\n",
        "numbs = [90, 65, 72, 48, 94, 90, 46, 65, 87, 56, 1, 2, 3, 4, 5, 6, 6, 7, 8, 9]\n",
        "mean = np.sum(numbs)/len(numbs)\n",
        "print(\"Mean :\",np.mean(numbs))\n",
        "print(\"Custom Mean :\",mean)\n",
        "if len(numbs)%2 == 0:\n",
        "  median = (np.sort(numbs)[len(numbs)//2 -1] + np.sort(numbs)[len(numbs)//2])/2\n",
        "else:\n",
        "  median = np.sort(numbs)[len(numbs)//2]\n",
        "print(\"Median :\",np.median(numbs))\n",
        "print(\"Custom Median :\",median)\n",
        "var = (1/len(numbs))*(np.sum([(x - mean) ** 2 for x in numbs]))\n",
        "print(\"Variance :\",np.var(numbs))\n",
        "print(\"Custom Variance :\",var)\n",
        "std_dev = math.sqrt(var)\n",
        "print(\"Standard Deviation   :\",np.std(numbs))\n",
        "print(\"Custom Standard Deviation   :\",std_dev)\n",
        "mad = (1/len(numbs))*(np.sum([abs(x - mean) for x in numbs]))\n",
        "print(\"Mean Absolute Deviation:\",np.mean(abs(numbs - np.mean(numbs))))\n",
        "print(\"Custom Mean Absolute Deviation:\",mad)\n",
        "perc_75_index = (len(numbs)) * 75 / 100.0\n",
        "perc_75 = np.sort(numbs)[int(math.ceil(perc_75_index)) - 1]\n",
        "perc_25_index = (len(numbs)) * 25 / 100.0\n",
        "perc_25 = np.sort(numbs)[int(math.ceil(perc_25_index)) - 1]\n",
        "IQR = perc_75 - perc_25\n",
        "print(\"IQR :\",np.percentile(np.sort(numbs),75) - np.percentile(np.sort(numbs),25))\n",
        "print(\"Custom IQR :\",IQR)\n",
        "perc_90_index = (len(numbs)) * 90 / 100.0\n",
        "perc_90 = np.sort(numbs)[int(math.ceil(perc_90_index)) - 1]\n",
        "print(\"90th percentile :\",np.percentile(np.sort(numbs),90))\n",
        "print(\"Custom 90th percentile :\",perc_90)\n",
        "perc_99_index = (len(numbs)) * 99 / 100.0\n",
        "perc_99 = np.sort(numbs)[int(math.ceil(perc_99_index)) - 1]\n",
        "print(\"99th percentile :\",np.percentile(np.sort(numbs),99))\n",
        "print(\"Custom 99th percentile :\",perc_99)"
      ],
      "metadata": {
        "colab": {
          "base_uri": "https://localhost:8080/"
        },
        "id": "zEm7ckBzH_bv",
        "outputId": "270b5062-fc3b-411e-fc59-9801078ed0b3"
      },
      "execution_count": 22,
      "outputs": [
        {
          "output_type": "stream",
          "name": "stdout",
          "text": [
            "Mean : 38.2\n",
            "Custom Mean : 38.2\n",
            "Median : 27.5\n",
            "Custom Median : 27.5\n",
            "Variance : 1246.56\n",
            "Custom Variance : 1246.56\n",
            "Standard Deviation   : 35.3066565962\n",
            "Custom Standard Deviation   : 35.30665659617178\n",
            "Mean Absolute Deviation: 33.1\n",
            "Custom Mean Absolute Deviation: 33.1\n",
            "IQR : 61.0\n",
            "Custom IQR : 60\n",
            "90th percentile : 90.0\n",
            "Custom 90th percentile : 90\n",
            "99th percentile : 93.24\n",
            "Custom 99th percentile : 94\n"
          ]
        }
      ]
    }
  ]
}