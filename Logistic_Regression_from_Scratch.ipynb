{
  "nbformat": 4,
  "nbformat_minor": 0,
  "metadata": {
    "colab": {
      "name": "Logistic Regression from Scratch Assignment.v2.ipynb",
      "provenance": [],
      "collapsed_sections": []
    },
    "kernelspec": {
      "name": "python3",
      "display_name": "Python 3"
    },
    "language_info": {
      "name": "python"
    }
  },
  "cells": [
    {
      "cell_type": "markdown",
      "metadata": {
        "id": "YOoMmn6xpOkJ"
      },
      "source": [
        "# Implement Logistic Regression from scratch\n",
        "\n",
        "In this assignment, you will implement Logistic Regression with L1 regularization from scratch and predict the labels of the test data. You will then verify the correctness of the your implementation using multiple \"grader\" functions/cells (provided by us) which will match your implmentation.\n",
        "\n",
        "The grader functions would help you validate the correctness of your code. \n",
        "\n",
        "Please submit the final Colab notebook in the classroom ONLY after you have verified your code using the grader functions/cells.\n",
        "\n",
        "\n",
        "**NOTE: DO NOT change the \"grader\" functions or code snippets written by us.Please add your code in the suggested locations.**\n",
        "\n",
        "Ethics Code:\n",
        "1. You are welcome to read up online resources to implement the code. \n",
        "2. You can also discuss with your classmates on the implmentation over Slack.\n",
        "3. But, the code you write and submit should be yours ONLY. Your code will be compared against other stduents' code and online code snippets to check for plagiarism. If your code is found to be plagiarised, you will be awarded zero-marks for all assignments, which have a 10% weightage in the final marks for this course."
      ]
    },
    {
      "cell_type": "code",
      "metadata": {
        "colab": {
          "base_uri": "https://localhost:8080/"
        },
        "id": "MAlENnFPpQ3Y",
        "outputId": "f2e8f5f2-fad5-4438-dff1-c95b527b71e0"
      },
      "source": [
        "# Code to mount google drive in case you are loading the data from your google drive\n",
        "from google.colab import drive\n",
        "drive.mount('/gdrive')\n",
        "%cd /gdrive"
      ],
      "execution_count": null,
      "outputs": [
        {
          "output_type": "stream",
          "name": "stdout",
          "text": [
            "Mounted at /gdrive\n",
            "/gdrive\n"
          ]
        }
      ]
    },
    {
      "cell_type": "code",
      "metadata": {
        "colab": {
          "base_uri": "https://localhost:8080/",
          "height": 424
        },
        "id": "KMnahnQEpfQb",
        "outputId": "43a81680-60b3-40e8-d8dd-6c786fac56e1"
      },
      "source": [
        "# Loading data from csv file\n",
        "import pandas as pd\n",
        "data_path = '/gdrive/MyDrive/logistic_regression_assignment_data.csv'\n",
        "\n",
        "df = pd.read_csv(data_path)\n",
        "df"
      ],
      "execution_count": null,
      "outputs": [
        {
          "output_type": "execute_result",
          "data": {
            "text/plain": [
              "      category                                               text\n",
              "0            0  worldcom boss  left books alone  former worldc...\n",
              "1            1  tigers wary of farrell  gamble  leicester say ...\n",
              "2            1  yeading face newcastle in fa cup premiership s...\n",
              "3            1  henman hopes ended in dubai third seed tim hen...\n",
              "4            1  wilkinson fit to face edinburgh england captai...\n",
              "...        ...                                                ...\n",
              "1012         0  wall street cool to ebay s profit shares in on...\n",
              "1013         0  ban on forced retirement under 65 employers wi...\n",
              "1014         1  time to get tough on friendlies  for an intern...\n",
              "1015         0  christmas shoppers flock to tills shops all ov...\n",
              "1016         0  bush budget seeks deep cutbacks president bush...\n",
              "\n",
              "[1017 rows x 2 columns]"
            ],
            "text/html": [
              "\n",
              "  <div id=\"df-4b60d914-7397-4f14-a101-8324267d2694\">\n",
              "    <div class=\"colab-df-container\">\n",
              "      <div>\n",
              "<style scoped>\n",
              "    .dataframe tbody tr th:only-of-type {\n",
              "        vertical-align: middle;\n",
              "    }\n",
              "\n",
              "    .dataframe tbody tr th {\n",
              "        vertical-align: top;\n",
              "    }\n",
              "\n",
              "    .dataframe thead th {\n",
              "        text-align: right;\n",
              "    }\n",
              "</style>\n",
              "<table border=\"1\" class=\"dataframe\">\n",
              "  <thead>\n",
              "    <tr style=\"text-align: right;\">\n",
              "      <th></th>\n",
              "      <th>category</th>\n",
              "      <th>text</th>\n",
              "    </tr>\n",
              "  </thead>\n",
              "  <tbody>\n",
              "    <tr>\n",
              "      <th>0</th>\n",
              "      <td>0</td>\n",
              "      <td>worldcom boss  left books alone  former worldc...</td>\n",
              "    </tr>\n",
              "    <tr>\n",
              "      <th>1</th>\n",
              "      <td>1</td>\n",
              "      <td>tigers wary of farrell  gamble  leicester say ...</td>\n",
              "    </tr>\n",
              "    <tr>\n",
              "      <th>2</th>\n",
              "      <td>1</td>\n",
              "      <td>yeading face newcastle in fa cup premiership s...</td>\n",
              "    </tr>\n",
              "    <tr>\n",
              "      <th>3</th>\n",
              "      <td>1</td>\n",
              "      <td>henman hopes ended in dubai third seed tim hen...</td>\n",
              "    </tr>\n",
              "    <tr>\n",
              "      <th>4</th>\n",
              "      <td>1</td>\n",
              "      <td>wilkinson fit to face edinburgh england captai...</td>\n",
              "    </tr>\n",
              "    <tr>\n",
              "      <th>...</th>\n",
              "      <td>...</td>\n",
              "      <td>...</td>\n",
              "    </tr>\n",
              "    <tr>\n",
              "      <th>1012</th>\n",
              "      <td>0</td>\n",
              "      <td>wall street cool to ebay s profit shares in on...</td>\n",
              "    </tr>\n",
              "    <tr>\n",
              "      <th>1013</th>\n",
              "      <td>0</td>\n",
              "      <td>ban on forced retirement under 65 employers wi...</td>\n",
              "    </tr>\n",
              "    <tr>\n",
              "      <th>1014</th>\n",
              "      <td>1</td>\n",
              "      <td>time to get tough on friendlies  for an intern...</td>\n",
              "    </tr>\n",
              "    <tr>\n",
              "      <th>1015</th>\n",
              "      <td>0</td>\n",
              "      <td>christmas shoppers flock to tills shops all ov...</td>\n",
              "    </tr>\n",
              "    <tr>\n",
              "      <th>1016</th>\n",
              "      <td>0</td>\n",
              "      <td>bush budget seeks deep cutbacks president bush...</td>\n",
              "    </tr>\n",
              "  </tbody>\n",
              "</table>\n",
              "<p>1017 rows × 2 columns</p>\n",
              "</div>\n",
              "      <button class=\"colab-df-convert\" onclick=\"convertToInteractive('df-4b60d914-7397-4f14-a101-8324267d2694')\"\n",
              "              title=\"Convert this dataframe to an interactive table.\"\n",
              "              style=\"display:none;\">\n",
              "        \n",
              "  <svg xmlns=\"http://www.w3.org/2000/svg\" height=\"24px\"viewBox=\"0 0 24 24\"\n",
              "       width=\"24px\">\n",
              "    <path d=\"M0 0h24v24H0V0z\" fill=\"none\"/>\n",
              "    <path d=\"M18.56 5.44l.94 2.06.94-2.06 2.06-.94-2.06-.94-.94-2.06-.94 2.06-2.06.94zm-11 1L8.5 8.5l.94-2.06 2.06-.94-2.06-.94L8.5 2.5l-.94 2.06-2.06.94zm10 10l.94 2.06.94-2.06 2.06-.94-2.06-.94-.94-2.06-.94 2.06-2.06.94z\"/><path d=\"M17.41 7.96l-1.37-1.37c-.4-.4-.92-.59-1.43-.59-.52 0-1.04.2-1.43.59L10.3 9.45l-7.72 7.72c-.78.78-.78 2.05 0 2.83L4 21.41c.39.39.9.59 1.41.59.51 0 1.02-.2 1.41-.59l7.78-7.78 2.81-2.81c.8-.78.8-2.07 0-2.86zM5.41 20L4 18.59l7.72-7.72 1.47 1.35L5.41 20z\"/>\n",
              "  </svg>\n",
              "      </button>\n",
              "      \n",
              "  <style>\n",
              "    .colab-df-container {\n",
              "      display:flex;\n",
              "      flex-wrap:wrap;\n",
              "      gap: 12px;\n",
              "    }\n",
              "\n",
              "    .colab-df-convert {\n",
              "      background-color: #E8F0FE;\n",
              "      border: none;\n",
              "      border-radius: 50%;\n",
              "      cursor: pointer;\n",
              "      display: none;\n",
              "      fill: #1967D2;\n",
              "      height: 32px;\n",
              "      padding: 0 0 0 0;\n",
              "      width: 32px;\n",
              "    }\n",
              "\n",
              "    .colab-df-convert:hover {\n",
              "      background-color: #E2EBFA;\n",
              "      box-shadow: 0px 1px 2px rgba(60, 64, 67, 0.3), 0px 1px 3px 1px rgba(60, 64, 67, 0.15);\n",
              "      fill: #174EA6;\n",
              "    }\n",
              "\n",
              "    [theme=dark] .colab-df-convert {\n",
              "      background-color: #3B4455;\n",
              "      fill: #D2E3FC;\n",
              "    }\n",
              "\n",
              "    [theme=dark] .colab-df-convert:hover {\n",
              "      background-color: #434B5C;\n",
              "      box-shadow: 0px 1px 3px 1px rgba(0, 0, 0, 0.15);\n",
              "      filter: drop-shadow(0px 1px 2px rgba(0, 0, 0, 0.3));\n",
              "      fill: #FFFFFF;\n",
              "    }\n",
              "  </style>\n",
              "\n",
              "      <script>\n",
              "        const buttonEl =\n",
              "          document.querySelector('#df-4b60d914-7397-4f14-a101-8324267d2694 button.colab-df-convert');\n",
              "        buttonEl.style.display =\n",
              "          google.colab.kernel.accessAllowed ? 'block' : 'none';\n",
              "\n",
              "        async function convertToInteractive(key) {\n",
              "          const element = document.querySelector('#df-4b60d914-7397-4f14-a101-8324267d2694');\n",
              "          const dataTable =\n",
              "            await google.colab.kernel.invokeFunction('convertToInteractive',\n",
              "                                                     [key], {});\n",
              "          if (!dataTable) return;\n",
              "\n",
              "          const docLinkHtml = 'Like what you see? Visit the ' +\n",
              "            '<a target=\"_blank\" href=https://colab.research.google.com/notebooks/data_table.ipynb>data table notebook</a>'\n",
              "            + ' to learn more about interactive tables.';\n",
              "          element.innerHTML = '';\n",
              "          dataTable['output_type'] = 'display_data';\n",
              "          await google.colab.output.renderOutput(dataTable, element);\n",
              "          const docLink = document.createElement('div');\n",
              "          docLink.innerHTML = docLinkHtml;\n",
              "          element.appendChild(docLink);\n",
              "        }\n",
              "      </script>\n",
              "    </div>\n",
              "  </div>\n",
              "  "
            ]
          },
          "metadata": {},
          "execution_count": 2
        }
      ]
    },
    {
      "cell_type": "markdown",
      "metadata": {
        "id": "kTQOrw6JCu5D"
      },
      "source": [
        "#### **Note:** Here class-0 is of category \"business\" and class-1 is of category \"sport\""
      ]
    },
    {
      "cell_type": "code",
      "metadata": {
        "colab": {
          "base_uri": "https://localhost:8080/"
        },
        "id": "T0_a8GvRqwzj",
        "outputId": "57ac515e-67a8-4bb3-8274-cce39f7fdbe8"
      },
      "source": [
        "# Data Overiview\n",
        "df['category'].value_counts()"
      ],
      "execution_count": null,
      "outputs": [
        {
          "output_type": "execute_result",
          "data": {
            "text/plain": [
              "1    509\n",
              "0    508\n",
              "Name: category, dtype: int64"
            ]
          },
          "metadata": {},
          "execution_count": 3
        }
      ]
    },
    {
      "cell_type": "markdown",
      "metadata": {
        "id": "RW3eJmVbubx4"
      },
      "source": [
        "### Creating Train and Test Datasets\n"
      ]
    },
    {
      "cell_type": "code",
      "metadata": {
        "colab": {
          "base_uri": "https://localhost:8080/"
        },
        "id": "f5iXh7PusnyJ",
        "outputId": "ff3b6500-5324-4f6c-834f-842fe74a1bf3"
      },
      "source": [
        "# Splitting the data into train and test\n",
        "\n",
        "from sklearn.model_selection import train_test_split\n",
        "\n",
        "text = df['text']\n",
        "category = df['category']\n",
        "train_text, test_text, train_category, test_category = train_test_split(text, category, random_state=42, stratify=category, test_size=0.01)\n",
        "\n",
        "print(\"Shape of Train_Text = \", train_text.shape)\n",
        "print(\"Shape of Test_Text = \", test_text.shape)\n",
        "print(\"Shape of Train_Category = \", train_category.shape)\n",
        "print(\"Shape of Train_Category = \", test_category.shape)"
      ],
      "execution_count": null,
      "outputs": [
        {
          "output_type": "stream",
          "name": "stdout",
          "text": [
            "Shape of Train_Text =  (1006,)\n",
            "Shape of Test_Text =  (11,)\n",
            "Shape of Train_Category =  (1006,)\n",
            "Shape of Train_Category =  (11,)\n"
          ]
        }
      ]
    },
    {
      "cell_type": "markdown",
      "metadata": {
        "id": "G6JlCeWPvNPS"
      },
      "source": [
        "## Custom Implementation"
      ]
    },
    {
      "cell_type": "markdown",
      "metadata": {
        "id": "VQRHOpf1vO69"
      },
      "source": [
        "### Instructions:\n",
        "\n",
        "  1. Read in the train_data.\n",
        "  2. Vectorize train_data and test_data using sklearns built in tfidf vectorizer.\n",
        "  3. Ignore unigrams and make use of both **bigrams & trigrams** and also limit the **max features** to **2000** and **minimum document frequency** to **10**.\n",
        "  4. After the tfidf vectors are generated as mentioned above, next task is to column standardize your data.\n",
        "  5. We want you to write in comments in your code, the reason you think for standardizing the data in the above step.\n",
        "  6. You can use sklearn StandardScaler to column standardize your data.\n",
        "  7. Write a function to initialise your weights & bias. And then run its corresponding grader function.\n",
        "  8. Write a custom function to calculate sigmoid of a value. And then run its corresponding grader function to cross check your implementation of sigmoid function.\n",
        "  9. Write a custom function to compute the total loss as the sum of log loss and l1 regularization loss based on true labels and predicted labels and weights. And you can crosscheck your implementation with its corresponding grader.\n",
        "  10. Write a function to compute gradients for your weights and bias terms, which you have to make use of in updating your weights and bias while training your model.\n",
        "  11. Implement a custom train function of logistic regression, wherein you take in the following inputs:\n",
        "        * **X_train** which will be your vectorized text data\n",
        "        * **y_train** which are the labels for your train data\n",
        "        * **alpha** = 0.0001 which is the regularization factor (λ) \n",
        "        * **eta0** = 0.0001 which will be the learning rate   \n",
        "        * **tolerance** = 0.001\n",
        "        \n",
        "  12. In the custom train function you should make use of a custom SGD function to update the weights and bias terms for **each** of your inputs. \n",
        "  13. The custom SGD implemented in the above train function for updating the weights and bias terms should run for many epochs until the difference in loss between two consecutive epochs is less than tolerance.\n",
        "\n",
        "  14. Here one epoch means a complete iteration of your entire train data.\n",
        "  15. Your train function should return the follwing:\n",
        "        * the number of epochs it took to complete the training\n",
        "        * train loss for all epochs\n",
        "        * the values for final weights and bias terms.\n",
        "        \n",
        "  16. Now run the grader function to check whether the weights and bias obtained from your custom implementation are close enough to that of sklearns implementation.\n",
        "  17. Next write a custom predict function which takes in as input the weights and bias values that you computed in your train function, and also takes in the test standardized data as input to predict its labels.\n",
        "  18. Now run the grader function to check the accuracy of your predictions.\n",
        "\n",
        "\n",
        "\n"
      ]
    },
    {
      "cell_type": "markdown",
      "metadata": {
        "id": "1Kb2V8ZXM-6M"
      },
      "source": [
        "###Import necessary libraries"
      ]
    },
    {
      "cell_type": "code",
      "metadata": {
        "id": "a3Zm11bHNGBi"
      },
      "source": [
        "import numpy as np\n",
        "from sklearn.feature_extraction.text import TfidfVectorizer\n",
        "from sklearn.preprocessing import StandardScaler\n",
        "from sklearn import linear_model\n",
        "import matplotlib.pyplot as plt"
      ],
      "execution_count": null,
      "outputs": []
    },
    {
      "cell_type": "markdown",
      "metadata": {
        "id": "_hfDStz1LvEe"
      },
      "source": [
        "### 1. Vectorize train data and test data using sklearn tf-idf in the below cell\n",
        "\n",
        "\n",
        "\n"
      ]
    },
    {
      "cell_type": "code",
      "metadata": {
        "colab": {
          "base_uri": "https://localhost:8080/"
        },
        "id": "JoiLZawBMI2B",
        "outputId": "9c815af0-09f6-4999-e5de-9a3c05a89451"
      },
      "source": [
        "'''vectorize train and test data using TF-IDF and store them in train_vectors and test_vectors respectively'''\n",
        "tf_idf_vect = TfidfVectorizer(ngram_range=(2,3), min_df=10, max_features=2000)\n",
        "tf_idf_vect.fit(train_text)\n",
        "train_vectors = tf_idf_vect.transform(train_text).toarray()\n",
        "test_vectors = tf_idf_vect.transform(test_text).toarray()\n",
        "train_vectors.shape, test_vectors.shape"
      ],
      "execution_count": null,
      "outputs": [
        {
          "output_type": "execute_result",
          "data": {
            "text/plain": [
              "((1006, 2000), (11, 2000))"
            ]
          },
          "metadata": {},
          "execution_count": 6
        }
      ]
    },
    {
      "cell_type": "markdown",
      "metadata": {
        "id": "0igVcuTSN4pS"
      },
      "source": [
        "###2. Column standardize the train and test data"
      ]
    },
    {
      "cell_type": "markdown",
      "metadata": {
        "id": "7zqOC3wx8LWF"
      },
      "source": [
        "What is the reasoning for column standardizing the data?\n"
      ]
    },
    {
      "cell_type": "markdown",
      "metadata": {
        "id": "H4jJ4xm58UPZ"
      },
      "source": [
        "Answer: In Logistic Regression the distance between the points is calculated and the effect of one feature can be strong on the outcome when compared to other. Thus when we standardize the features, equal importance would be given to each feature. Also, since We are using L1 Regularizer the hyper parameter,lamda, is multiple with weights to penalize. If the features are standardized then there will not be excess or under effect of hyperparameter on weights."
      ]
    },
    {
      "cell_type": "code",
      "metadata": {
        "colab": {
          "base_uri": "https://localhost:8080/"
        },
        "id": "D9vQGIN_N8u2",
        "outputId": "5188bade-0854-49eb-a8f1-e5b1eff85c6b"
      },
      "source": [
        "'''column standardize the train and test data and store them in train_vectors_stand and test_vectors_stand'''\n",
        "train_vectors_stand = StandardScaler().fit_transform(train_vectors)\n",
        "test_vectors_stand = StandardScaler().fit_transform(test_vectors)\n",
        "train_vectors_stand.shape, test_vectors_stand.shape"
      ],
      "execution_count": null,
      "outputs": [
        {
          "output_type": "execute_result",
          "data": {
            "text/plain": [
              "((1006, 2000), (11, 2000))"
            ]
          },
          "metadata": {},
          "execution_count": 8
        }
      ]
    },
    {
      "cell_type": "markdown",
      "metadata": {
        "id": "sKL7ul-A5U6n"
      },
      "source": [
        "### 3. Custom function to intialise your weights and bias terms"
      ]
    },
    {
      "cell_type": "code",
      "metadata": {
        "id": "dUmNAPWe3rso"
      },
      "source": [
        "def initialize_weights_bias(dim):\n",
        "    ''' In this function, we will initialize our weights and bias terms'''\n",
        "\n",
        "    # Initialize the weights to zeros array of (dim) dimensions. Here dim will be the number of features of your tfidf vectorizer output.\n",
        "    # You can initialize the weight terms with zeros.\n",
        "    # Initialize bias term to zero\n",
        "    # Write your code below.\n",
        "\n",
        "    w = np.array([0]*dim)\n",
        "    b = 0\n",
        "\n",
        "    return w,b"
      ],
      "execution_count": null,
      "outputs": []
    },
    {
      "cell_type": "markdown",
      "metadata": {
        "id": "b5H1j1bo5e2-"
      },
      "source": [
        "### Grader Function - 1"
      ]
    },
    {
      "cell_type": "code",
      "metadata": {
        "id": "D_wIbcOj3JrV",
        "outputId": "91de9ef0-7457-4add-f79b-91f969c32c29",
        "colab": {
          "base_uri": "https://localhost:8080/"
        }
      },
      "source": [
        "# Grader function to check the initialization of your weights and bias terms.\n",
        "\n",
        "def grader_weights_bias(w,b):\n",
        "  assert((len(w)==2000) and b==0)\n",
        "  return True\n",
        "\n",
        "dim = 2000\n",
        "w,b = initialize_weights_bias(dim)\n",
        "grader_1 = grader_weights_bias(w,b)\n",
        "print(\"Grader_1 Status : \", grader_1)"
      ],
      "execution_count": null,
      "outputs": [
        {
          "output_type": "stream",
          "name": "stdout",
          "text": [
            "Grader_1 Status :  True\n"
          ]
        }
      ]
    },
    {
      "cell_type": "markdown",
      "metadata": {
        "id": "oLGMaOFE6JDF"
      },
      "source": [
        "### 4. Custom function to calculate sigmoid of a value"
      ]
    },
    {
      "cell_type": "code",
      "metadata": {
        "id": "FfP2Z7gv3JpX"
      },
      "source": [
        "def custom_sigmoid(z):\n",
        "    ''' In this function, we will return sigmoid of z'''\n",
        "    \n",
        "    # Compute sigmoid(z) and return its value.\n",
        "    # Write your code below.\n",
        "    sigmoid = 1/(1+np.exp(-z))\n",
        "    return sigmoid"
      ],
      "execution_count": null,
      "outputs": []
    },
    {
      "cell_type": "markdown",
      "metadata": {
        "id": "lmoPhaX16pJ2"
      },
      "source": [
        "### Grader Function - 2"
      ]
    },
    {
      "cell_type": "code",
      "metadata": {
        "id": "G14xZAg_6x6C",
        "outputId": "233ce49b-1ec4-47c7-f37b-10359fdc8b60",
        "colab": {
          "base_uri": "https://localhost:8080/"
        }
      },
      "source": [
        "# Grader function to check the implementaiton of sigmoid function\n",
        "\n",
        "def grader_sigmoid(z):\n",
        "  val = custom_sigmoid(z)\n",
        "  assert(val==0.8807970779778823)\n",
        "  return True\n",
        "\n",
        "grader_2 = grader_sigmoid(2)\n",
        "print(\"Grader_2 Status : \", grader_2)"
      ],
      "execution_count": null,
      "outputs": [
        {
          "output_type": "stream",
          "name": "stdout",
          "text": [
            "Grader_2 Status :  True\n"
          ]
        }
      ]
    },
    {
      "cell_type": "markdown",
      "metadata": {
        "id": "SVTM6TpQ6JTS"
      },
      "source": [
        "### 5.  Custom function to compute loss function"
      ]
    },
    {
      "cell_type": "markdown",
      "metadata": {
        "id": "Q5B5oKpf4h0n"
      },
      "source": [
        "$logloss = -1*\\frac{1}{n}\\Sigma_{for each Y_{true},Y_{pred}}(Y_{true}log10(Y_{pred})+(1-Y_{true})log10(1-Y_{pred}))$ \n"
      ]
    },
    {
      "cell_type": "markdown",
      "metadata": {
        "id": "AnS1uSrV6CAk"
      },
      "source": [
        "$L1 loss = \\Sigma_{for each w}(|w|)$"
      ]
    },
    {
      "cell_type": "markdown",
      "metadata": {
        "id": "azcvxO3u6lNK"
      },
      "source": [
        "$total loss = logloss + alpha*L1loss$<br>\n",
        "Where alphas is the regularization parameter"
      ]
    },
    {
      "cell_type": "code",
      "metadata": {
        "id": "41ush74x8ueR"
      },
      "source": [
        "def custom_loss(y_true, y_pred, alpha, w):\n",
        "    '''In this function, we will compute total loss which is [(logloss) + (alpha * L1regularization loss)] '''\n",
        "    \n",
        "    # Write your code below.\n",
        "    y_len = len(y_true)\n",
        "    log_loss = (-1)*(1/y_len)*sum([ i*np.log10(j) + ( (1-i)*np.log10(1-j) ) for i,j in zip(y_true, y_pred)])\n",
        "    l1_loss = sum([abs(weight) for weight in w])\n",
        "    total_loss = log_loss+(alpha*l1_loss)\n",
        "\n",
        "    return total_loss"
      ],
      "execution_count": null,
      "outputs": []
    },
    {
      "cell_type": "markdown",
      "metadata": {
        "id": "DYPtH_bM6obu"
      },
      "source": [
        "### Grader Function - 3"
      ]
    },
    {
      "cell_type": "code",
      "metadata": {
        "id": "AeNjSysS829s",
        "outputId": "0613ace9-45d9-470b-d503-abca0b89878b",
        "colab": {
          "base_uri": "https://localhost:8080/"
        }
      },
      "source": [
        "# Grader function to check the implementaiton of logloss\n",
        "\n",
        "def grader_loss():\n",
        "  true_values = [1,1,0,1,0]\n",
        "  pred_values = [0.9,0.8,0.1,0.8,0.2]\n",
        "  w= np.array([0.1]*10)\n",
        "  alpha= 0.0001\n",
        "  loss = custom_loss(true_values, pred_values,alpha,w)\n",
        "  assert(loss==0.07644900402910389+0.0001*10*0.1)\n",
        "  return True\n",
        "\n",
        "\n",
        "grader_3 = grader_loss()\n",
        "print(\"Grader_3 Status : \", grader_3)"
      ],
      "execution_count": null,
      "outputs": [
        {
          "output_type": "stream",
          "name": "stdout",
          "text": [
            "Grader_3 Status :  True\n"
          ]
        }
      ]
    },
    {
      "cell_type": "markdown",
      "metadata": {
        "id": "LQGM1j2B6Jbf"
      },
      "source": [
        "### 6. Custom function to updated weights and bias terms"
      ]
    },
    {
      "cell_type": "markdown",
      "metadata": {
        "id": "FlqoG2CBMAjI"
      },
      "source": [
        "Use the below formula to compute gradient of your weight and bias terms <br>\n",
        "Loss term Li for a single example is given as below: \n",
        "<br>\n",
        "<br>\n",
        "\n",
        "$Li= -(Y_{i}log10(𝝈_{i})-(1-Y_{i})log10(1-𝝈_{i}) + \\frac{alpha}{N}(sum(|w|))\n",
        "$ <br>\n",
        "<br>\n",
        "$Where: 𝝈_{i} = σ(w^{T} x_i+b) $ <br>\n",
        "<br>\n",
        "And: L1 regularization = $\\frac{alpha}{N}(sum(|w|)) $ <br>\n",
        "Alpha: It is the Regularization parameter <br>\n",
        "N : number of training examples<br>\n",
        "σ : sigmoid function <br>\n",
        "<br>\n",
        "<br>\n",
        "<br>\n",
        "$dLi/dw= -Y_{i}x_{i}(1-𝝈_{i}) + (1-Y_{i})x_{i}𝝈_{i} + \\frac{alpha}{N} \\frac{w + (1e-5)}{|w + (1e-5)|}  $<br>\n",
        "NOTE THAT: 1e-5 used in numerator and denominator to avoid division error <br>\n",
        "\n",
        "$dLi/db= -Y_{i}(1-𝝈_{i}) + (1-Y_{i})𝝈_{i}$<br>\n",
        "<br>\n",
        "<br>\n",
        "Hence,<br>\n",
        "$dLi/dw= dw = (𝝈_{i} -Y_{i})x_{i} + \\frac{alpha}{N}\\frac{w + (1e-5)}{|w + (1e-5)|} $<br>\n",
        "1e-5 used in numerator and denominator to avoid division error <br>\n",
        "$dLi/db =  db = 𝝈_{i}-Y_{i}$\n",
        "<br>\n",
        "<br>\n",
        "!!NOTE: USE NEGATIVE GRADIENT WHILE UPDATING"
      ]
    },
    {
      "cell_type": "markdown",
      "metadata": {
        "id": "5UBBkZNJM2Fg"
      },
      "source": [
        "### 6a. Custom function to compute Gradient of loss function wrt weights:"
      ]
    },
    {
      "cell_type": "code",
      "metadata": {
        "id": "hREi7bQxM8h-"
      },
      "source": [
        "def gradient_dw(x, y, w, b, alpha, N):\n",
        "    '''In this function, we will compute the gardient w.r.t. w '''\n",
        "    \n",
        "    # Write your code below.\n",
        "    dw = np.dot(x.transpose(), (custom_sigmoid(np.dot(x,w)+b) - y)) + ((alpha/N)*(np.sign(w)))\n",
        "    \n",
        "    return dw"
      ],
      "execution_count": null,
      "outputs": []
    },
    {
      "cell_type": "markdown",
      "metadata": {
        "id": "DyxGabPPM_lL"
      },
      "source": [
        "### 6b.  Custom function to compute Gradient of loss function wrt bias term:"
      ]
    },
    {
      "cell_type": "code",
      "metadata": {
        "id": "mIMxwuBAND0a"
      },
      "source": [
        "def gradient_db(x, y, w, b):\n",
        "    '''In this function, we will compute the gardient w.r.t. b '''\n",
        "    \n",
        "    # Write your code below.\n",
        "    db = np.sum((custom_sigmoid(np.dot(x,w)+b) - y))\n",
        "    return db"
      ],
      "execution_count": null,
      "outputs": []
    },
    {
      "cell_type": "markdown",
      "metadata": {
        "id": "DA6UuRWA-Pvf"
      },
      "source": [
        "###6c. Custom function to train logistic regression model"
      ]
    },
    {
      "cell_type": "markdown",
      "metadata": {
        "id": "KgdgYdyRX06U"
      },
      "source": [
        "$w^{(t+1)}← w^{(t)}- eta0*(dw^{(t)}) $<br>\n",
        "$b^{(t+1)}←b^{(t)} - eta0*(db^{(t)}) $"
      ]
    },
    {
      "cell_type": "code",
      "metadata": {
        "id": "44nod2Gu-ZWq"
      },
      "source": [
        "def custom_train(X_train, y_train,alpha, eta0,tolerance):\n",
        "  \"\"\"\n",
        "  In this function we will compute optimal values for weights and bias terms on\n",
        "  the train data. \n",
        "\n",
        "  Here eta0 is the learning rate and alpha is the regularization term.\n",
        "  \"\"\"\n",
        "  train_loss=[]\n",
        "\n",
        "  # Implement the code as follows:\n",
        "\n",
        "  # 1. Initalize the weights (call the initialize_weights(X_train[0]) function)\n",
        "  # 2. Repeat For many epochs until condition \"e\"  fails\n",
        "          # a) for every data point(X_train,y_train)\n",
        "                # compute gradient w.r.to w (call the gradient_dw() function)\n",
        "                # compute gradient w.r.to b (call the gradient_db() function)\n",
        "                # update w, b using the above eqns\n",
        "          # b) predict the output of x_train[for all data points in X_train] using w,b\n",
        "          # c) compute the loss between predicted and actual values (call the loss function)\n",
        "          # d) store all the train loss values in a list\n",
        "          # e) Compare previous loss and current loss, if the difference between loss is not more than or equal to the tolerance, stop the process and return w,b\n",
        "\n",
        "  # 3. Return the values of weights, bias, train_loss and num_epochs \n",
        "  w,b = initialize_weights_bias(X_train.shape[1])\n",
        "  N = X_train.shape[1]\n",
        "  num_epochs = 0\n",
        "  cond=True\n",
        "  while cond:\n",
        "    dw = gradient_dw(X_train, y_train, w, b, alpha, N)\n",
        "    db = gradient_db(X_train, y_train, w, b)\n",
        "    w = w - (eta0 * dw)\n",
        "    b = b - (eta0 * db)\n",
        "    Y_pred = w.dot(X_train.transpose()) + b\n",
        "    eps = 1e-15\n",
        "    Y_pred = np.clip(Y_pred,eps,1-eps)\n",
        "    log_loss = (-1/len(y_train))*(np.sum(y_train * np.log(Y_pred)))\n",
        "    l1_loss = sum([abs(weight) for weight in w])\n",
        "    current_loss = log_loss+(alpha*l1_loss)\n",
        "    train_loss.append(current_loss)\n",
        "    if num_epochs>0:\n",
        "      cond=((train_loss[num_epochs-1]-train_loss[num_epochs])>=tolerance)\n",
        "    num_epochs += 1   \n",
        "  return w,b,train_loss,num_epochs\n",
        "  \n",
        "\n",
        "\n"
      ],
      "execution_count": null,
      "outputs": []
    },
    {
      "cell_type": "markdown",
      "metadata": {
        "id": "EKKUVLml6pGj"
      },
      "source": [
        "### Grader Function - 4"
      ]
    },
    {
      "cell_type": "code",
      "metadata": {
        "id": "eAgSNFOU3JhN",
        "outputId": "57cbd49b-a2f4-4c87-d75f-0acdccfdf148",
        "colab": {
          "base_uri": "https://localhost:8080/"
        }
      },
      "source": [
        "def grader_weights_bias():\n",
        "  # fitting sklearn SGD classifier\n",
        "  clf = linear_model.SGDClassifier(eta0=0.0001, alpha=0.0001, loss='log', random_state=15, penalty='l1', tol=1e-3, learning_rate='constant')\n",
        "  clf.fit(train_vectors_stand,train_category.values)\n",
        "  model_coef= clf.coef_[0]\n",
        "\n",
        "  # fitting custom train with same learning rate, regularization and tolerance as of sklearn\n",
        "  w,b,_,epoch = custom_train(train_vectors_stand, train_category.values, 0.0001,0.0001,0.001)\n",
        "\n",
        "  # checking whether the weights and bias returned by both the implementations are closer\n",
        "  assert((not (w-model_coef>0.02).any())==True)\n",
        "  assert(not (b-clf.intercept_>0.02)==True)\n",
        "  \n",
        "  return True\n",
        "\n",
        "grader_4 = grader_weights_bias()\n",
        "print(\"Grader_4 Status : \", grader_4)"
      ],
      "execution_count": null,
      "outputs": [
        {
          "output_type": "stream",
          "name": "stdout",
          "text": [
            "Grader_4 Status :  True\n"
          ]
        }
      ]
    },
    {
      "cell_type": "markdown",
      "metadata": {
        "id": "GHrNKvsemncP"
      },
      "source": [
        "### 7. Plot the train loss with x as epoch number and y as train loss"
      ]
    },
    {
      "cell_type": "code",
      "metadata": {
        "id": "OJ_7XOwzmvvi",
        "outputId": "a7c92c5b-dcbc-4432-d802-e2f3a41b62d8",
        "colab": {
          "base_uri": "https://localhost:8080/",
          "height": 295
        }
      },
      "source": [
        "# plotting graph for epoch vs loss for train and test data\n",
        "\n",
        "w,b,train_loss,epochs = custom_train(train_vectors_stand, train_category.values, 0.0001,0.0001,0.001)\n",
        "plt.plot(range(epochs),train_loss,label='train curve')\n",
        "plt.title('epoch vs loss')\n",
        "plt.legend()\n",
        "plt.xlabel('epoch')\n",
        "plt.ylabel('loss')\n",
        "plt.show()"
      ],
      "execution_count": null,
      "outputs": [
        {
          "output_type": "display_data",
          "data": {
            "text/plain": [
              "<Figure size 432x288 with 1 Axes>"
            ],
            "image/png": "[encoded data removed]"
          },
          "metadata": {
            "needs_background": "light"
          }
        }
      ]
    },
    {
      "cell_type": "markdown",
      "metadata": {
        "id": "IYy8iqhrAne2"
      },
      "source": [
        "### 8. Custom function to make predictions using logistic regression model"
      ]
    },
    {
      "cell_type": "code",
      "metadata": {
        "id": "w2gy5NvAlC_6"
      },
      "source": [
        "def predict(w,b, X):\n",
        "    '''function to predict label given weights, bias and standardized data'''\n",
        "    predictions = np.dot(w,X.transpose())+b\n",
        "    predictions[predictions>=0] = 1\n",
        "    predictions[predictions<0] = 0\n",
        "    return predictions #it should be a numpy array"
      ],
      "execution_count": null,
      "outputs": []
    },
    {
      "cell_type": "markdown",
      "metadata": {
        "id": "EY3E_yv2OGiD"
      },
      "source": [
        "### Grader Function - 5"
      ]
    },
    {
      "cell_type": "code",
      "metadata": {
        "id": "eKYawSBtlRD7",
        "outputId": "10f5c91b-3f70-45dc-dbca-970d57fd7b16",
        "colab": {
          "base_uri": "https://localhost:8080/"
        }
      },
      "source": [
        "def grader_predict():\n",
        "  ''' grader to check the test accuracy'''\n",
        "  w,b,_,_ = custom_train(train_vectors_stand, train_category.values, 0.0001,0.0001,0.001)\n",
        "  test_preds= predict(w,b,test_vectors_stand)\n",
        "  test_accuracy= (np.sum(test_category==test_preds)/len(test_preds))*100\n",
        "  if(test_accuracy>=90):\n",
        "    print(\"Success!\")\n",
        "  else:\n",
        "    print(\"Failed! \\n Test accuracy = \", test_accuracy)\n",
        "  return\n",
        "  \n",
        "grader_predict()"
      ],
      "execution_count": null,
      "outputs": [
        {
          "output_type": "stream",
          "name": "stdout",
          "text": [
            "Success!\n"
          ]
        }
      ]
    },
    {
      "cell_type": "markdown",
      "metadata": {
        "id": "ny-Jr3ZlaTiN"
      },
      "source": [
        "**Extension**"
      ]
    },
    {
      "cell_type": "markdown",
      "metadata": {
        "id": "q_Qf8iApaWlK"
      },
      "source": [
        "Learning rate need not be constant always. We can choose to vary the learning rate depending upon various criteria. One simple implementation is to decrease the learning rate by a constant percentage every epoch"
      ]
    },
    {
      "cell_type": "code",
      "metadata": {
        "id": "6EMoD2joCbrR"
      },
      "source": [
        "def custom_train_v2(X_train, y_train,alpha, eta0, tolerance):\n",
        "  \"\"\"\n",
        "  In this function we will compute optimal values for weights and bias terms on\n",
        "  the train data. \n",
        "\n",
        "  Here eta0 is the learning rate and alpha is the regularization term.\n",
        "  \"\"\"\n",
        "\n",
        "  #array to store train loss for each epoch\n",
        "  train_loss=[]\n",
        "\n",
        "  # Implement the code as follows:\n",
        "\n",
        "  # 1. Initalize the weights (call the initialize_weights(X_train[0]) function)\n",
        "  # 2. Repeat For many epochs until condition \"e\"  fails\n",
        "          # a) for every data point(X_train,y_train)\n",
        "                # compute gradient w.r.to w (call the gradient_dw() function)\n",
        "                # compute gradient w.r.to b (call the gradient_db() function)\n",
        "                # update w, b using the above eqns\n",
        "          # b) predict the output of x_train[for all data points in X_train] using w,b\n",
        "          # c) compute the loss between predicted and actual values (call the loss function)\n",
        "          # d) store all the train loss values in a list\n",
        "          # e) Compare previous loss and current loss, if the difference between loss is not more than or equal to the tolerance, stop the process and return w,b\n",
        "\n",
        "  # 3. Return the values of weights, bias, train_loss and num_epochs \n",
        "  \n",
        "  #initializing the weights and bias\n",
        "  w,b=initialize_weights_bias(X_train.shape[1])\n",
        "\n",
        "  #storing the number of train points in N\n",
        "  N=len(X_train)\n",
        "\n",
        "  #number of epochs the model is trained\n",
        "  num_epochs=0\n",
        "\n",
        "  #condition to run the training for more epochs\n",
        "  cond=True\n",
        "\n",
        "  #checking whether to run the training for more epochs\n",
        "  while(cond):\n",
        "    \n",
        "    #looping through each datapoint\n",
        "    for j in range(len(X_train)):\n",
        "        x=X_train[j]\n",
        "        y=y_train[j]\n",
        "        \n",
        "        #computing gradients\n",
        "        dw=gradient_dw(x,y,w,b,alpha,N)\n",
        "        db=gradient_db(x,y,w,b)\n",
        "        \n",
        "        #updating weights\n",
        "        w=w-eta0*dw\n",
        "        b=b-eta0*db\n",
        "\n",
        "    #computing y_pred for entire train data as y_pred= sigmoid(wTx+b)\n",
        "    y_pred_train= np.array([custom_sigmoid(np.dot(w,X_traini)+b) for X_traini in X_train])\n",
        "\n",
        "    #adding the train loss of current epoch to the list\n",
        "    train_loss.append(custom_loss(y_train,y_pred_train,alpha,w))\n",
        "\n",
        "    #checking whether loss has improved from previous epoch by atleast tolerance\n",
        "    if num_epochs>0:\n",
        "      cond=((train_loss[num_epochs-1]-train_loss[num_epochs])>=tolerance)\n",
        "\n",
        "    #increasing the number of epochs the model is trained.\n",
        "    num_epochs=num_epochs+1\n",
        "\n",
        "    #decreasing learning rate by 10% each epoch\n",
        "    eta0 = eta0*0.90  \n",
        "\n",
        "  return w,b,train_loss,num_epochs"
      ],
      "execution_count": null,
      "outputs": []
    }
  ]
}