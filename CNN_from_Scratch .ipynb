{
  "cells": [
    {
      "cell_type": "markdown",
      "metadata": {
        "id": "-PE-hzH3Pscz"
      },
      "source": [
        "# <font color='red'>Implement CNN from scratch</font>"
      ]
    },
    {
      "cell_type": "markdown",
      "metadata": {
        "id": "woFs9rYzPsc3"
      },
      "source": [
        "### In the following assignment you have to compute the convolutional operations from scratch using Numpy\n",
        "You will then verify the correctness of the your implementation using a \"grader\" function/cell (provided by us) which will match your implmentation.\n",
        "\n",
        "The grader fucntion would help you validate the correctness of your code. \n",
        "\n",
        "Please submit the final Colab notebook in the classroom ONLY after you have verified your code using the grader function/cell.\n",
        "\n",
        "\n",
        "**NOTE: DO NOT change the \"grader\" functions or code snippets written by us.Please add your code in the suggested locations.**\n",
        "\n",
        "Ethics Code:\n",
        "1. You are welcome to read up online resources to implement the code. \n",
        "2. You can also discuss with your classmates on the implmentation over Slack.\n",
        "3. But, the code you write and submit should be yours ONLY. Your code will be compared against other stduents' code and online code snippets to check for plagiarism. If your code is found to be plagiarised, you will be awarded zero-marks for all assignments, which have a 10% weightage in the final marks for this course."
      ]
    },
    {
      "cell_type": "markdown",
      "metadata": {
        "id": "BvWR8k5mPsc5"
      },
      "source": [
        "### Task 1. Calcuate the shape of the output image\n",
        "We use the below formula to calculate the shape of output image after performing the required operations\n",
        "<img src='https://i.imgur.com/BlepuHW.jpg'>"
      ]
    },
    {
      "cell_type": "code",
      "execution_count": 1,
      "metadata": {
        "id": "n6rx6cTzPsc6"
      },
      "outputs": [],
      "source": [
        "#https://stats.stackexchange.com/questions/351115/convolution-with-a-non-square-kernel\n",
        "#for simplicity we are assuming stride=1\n",
        "import numpy as np\n",
        "def calculate_output_shape(img_size, kernel_size,padding):\n",
        "    #\n",
        "    img_length=img_size[0]\n",
        "    img_width=img_size[1]\n",
        "    kernel_length=kernel_size[0]\n",
        "    kernel_width=kernel_size[1]\n",
        "    #return -1,-1 if the shape of kernel is greater than img_size\n",
        "    if kernel_length>img_length or kernel_width>img_width:\n",
        "      return -1,-1\n",
        "    output_length = (img_length+(2*padding)-kernel_length)+1\n",
        "    output_width = (img_width+(2*padding)-kernel_width)+1\n",
        "    \n",
        "    #use the above formula to calculate output_length and output_width\n",
        "    \n",
        "    return output_length,output_width"
      ]
    },
    {
      "cell_type": "code",
      "execution_count": 2,
      "metadata": {
        "id": "72IFaYr0Psc8",
        "colab": {
          "base_uri": "https://localhost:8080/"
        },
        "outputId": "a9bd87b8-4f5a-4e7a-878d-77eeb58c47c9"
      },
      "outputs": [
        {
          "output_type": "execute_result",
          "data": {
            "text/plain": [
              "True"
            ]
          },
          "metadata": {},
          "execution_count": 2
        }
      ],
      "source": [
        "def grader_calculate_size(l1,w1,l2,w2,l3,w3):\n",
        "    case_1=(l1==220 and w1==220)\n",
        "    case_2=(l2==-1 and w2==-1)\n",
        "    case_3=(l3==128 and w3==128)\n",
        "    assert(case_1 and case_2 and case_3)\n",
        "    return True\n",
        "l1,w1=calculate_output_shape((224,224), (5,5),0)\n",
        "l2,w2=calculate_output_shape((10,10),(12,12),1)\n",
        "l3,w3=calculate_output_shape((128,128), (3,3),1)\n",
        "grader_calculate_size(l1,w1,l2,w2,l3,w3)"
      ]
    },
    {
      "cell_type": "markdown",
      "metadata": {
        "id": "1wwLEQv-Psc9"
      },
      "source": [
        "### Task 2 . Get the padded image\n",
        "In this task we have to add layer of zeros as padding layers in the original image"
      ]
    },
    {
      "cell_type": "code",
      "execution_count": 3,
      "metadata": {
        "id": "JiC8F4odPsc-"
      },
      "outputs": [],
      "source": [
        "def get_padded_image(input_img, padding_width):\n",
        "    \n",
        "    #if the padding length is less than or equal to 0 then return the original image\n",
        "    if(padding_width<=0):\n",
        "        return img\n",
        "    img_with_padding = np.zeros((input_img.shape[0]+ 2*padding_width,input_img.shape[1] + 2*padding_width))\n",
        "    #you can initialize a matrix of all zeros and then copy the image data \n",
        "    for i in range(input_img.shape[0]):\n",
        "      for j in range(input_img.shape[1]):\n",
        "          img_with_padding[i+padding_width,j+padding_width] = input_img[i,j]\n",
        "\n",
        "    return img_with_padding"
      ]
    },
    {
      "cell_type": "code",
      "execution_count": 4,
      "metadata": {
        "id": "zjFvrbPOPsc_",
        "colab": {
          "base_uri": "https://localhost:8080/"
        },
        "outputId": "57fb2c88-1842-46f8-a1ac-588102530b06"
      },
      "outputs": [
        {
          "output_type": "execute_result",
          "data": {
            "text/plain": [
              "True"
            ]
          },
          "metadata": {},
          "execution_count": 4
        }
      ],
      "source": [
        "def grader_padding(img1,img2):\n",
        "    a1=((img1.shape)==(8,8))\n",
        "    a2=((img2.shape)==(4,4))\n",
        "    assert(a1 and a2)\n",
        "    b1=(img1.sum(axis=1)==[ 0.,  0., 10., 26., 42., 58.,  0.,  0.])\n",
        "    b2=(img1.sum(axis=0)==[ 0, 0, 28, 32, 36, 40,  0,  0])\n",
        "    assert(b1.all() and b2.all())\n",
        "    return True\n",
        "\n",
        "img=np.array([[1,2,3,4],[5,6,7,8],[9,10,11,12],[13,14,15,16]])\n",
        "img1=get_padded_image(img, 2)\n",
        "img2=get_padded_image(img, 0)\n",
        "grader_padding(img1,img2)"
      ]
    },
    {
      "cell_type": "markdown",
      "metadata": {
        "id": "gwm7syvmPsdA"
      },
      "source": [
        "### Task 3 . Performing convolution\n",
        "In this task we have to add layer of zeros as padding layers in the original image"
      ]
    },
    {
      "cell_type": "code",
      "execution_count": 5,
      "metadata": {
        "id": "YOHQMzGoPsdB"
      },
      "outputs": [],
      "source": [
        "def convolve(img, kernel,pad):\n",
        "    #calcualte the size of required image\n",
        "    tgt_size_length,tgt_size_width =  calculate_output_shape((img.shape[0],img.shape[1]),(kernel.shape[0],kernel.shape[1]),pad)\n",
        "    \n",
        "    #initialize the matrix of all zeros\n",
        "    convolved_img = np.zeros(shape=(tgt_size_length, tgt_size_width))\n",
        "    new_img=get_padded_image(img, pad)\n",
        "    # write the code for convolution\n",
        "\n",
        "    list = []\n",
        "    for i in range(new_img.shape[0]-1):\n",
        "      for j in range(new_img.shape[1]-1):\n",
        "        Z = new_img[i:kernel.shape[0]+i,j:j+kernel.shape[1]]\n",
        "        val = 0\n",
        "        for x in range(kernel.shape[0]):\n",
        "          for y in range(kernel.shape[1]):\n",
        "            val+=Z[x][y]*kernel[x][y]\n",
        "        list.append(val)\n",
        "    convolved_img = np.array(list).reshape(tgt_size_length,tgt_size_width)\n",
        "    return convolved_img"
      ]
    },
    {
      "cell_type": "code",
      "execution_count": 6,
      "metadata": {
        "id": "P5oK9PowPsdC",
        "colab": {
          "base_uri": "https://localhost:8080/"
        },
        "outputId": "8c6c0575-23d3-458e-cb8e-2d5f5214ae6f"
      },
      "outputs": [
        {
          "output_type": "execute_result",
          "data": {
            "text/plain": [
              "True"
            ]
          },
          "metadata": {},
          "execution_count": 6
        }
      ],
      "source": [
        "def grader_convolve(conv_img):\n",
        "    a1=(conv_img.shape==(5,5))\n",
        "    a2=(conv_img.sum(axis=1)==([10, 26, 42, 58,  0]))\n",
        "    a3=(conv_img.sum(axis=0)==([ 0,28, 32, 36, 40]))\n",
        "    assert(a1 and a2.all() and a3.all())\n",
        "    return True\n",
        "img=np.array([[1,2,3,4],[5,6,7,8],[9,10,11,12],[13,14,15,16]])\n",
        "kernel=np.array([[1,-1],[0,1]])\n",
        "conv_img=convolve(img, kernel,1)\n",
        "grader_convolve(conv_img)"
      ]
    },
    {
      "cell_type": "markdown",
      "metadata": {
        "id": "iZ3wb8wEPsdD"
      },
      "source": [
        "### Task 4: Perform Maxpooling with strides\n"
      ]
    },
    {
      "cell_type": "code",
      "execution_count": 7,
      "metadata": {
        "id": "ckGoVdIrPsdD"
      },
      "outputs": [],
      "source": [
        "def get_maxpools(img, pool_size, stride):\n",
        "    # write your code to get the pooled matrix\n",
        "    list = []\n",
        "    for i in range(img.shape[0]-stride):\n",
        "      if i != 0:\n",
        "        i=i+stride-1\n",
        "      for j in range(img.shape[1]-stride):\n",
        "        if j != 0:\n",
        "          j=j+stride-1\n",
        "        pooling_mat = img[i:pool_size+i,j:j+pool_size]\n",
        "        pooling_mat = pooling_mat.reshape(2*pool_size)\n",
        "        list.append(max(pooling_mat))\n",
        "    tgt_length = ((img.shape[0] - pool_size)/stride) + 1\n",
        "    tgt_width = ((img.shape[1] - pool_size)/stride) + 1\n",
        "    pooling_mat = np.array(list).reshape(int(tgt_length),int(tgt_width))\n",
        "    return (pooling_mat)"
      ]
    },
    {
      "cell_type": "code",
      "execution_count": 8,
      "metadata": {
        "id": "mN6FwpjUPsdE",
        "colab": {
          "base_uri": "https://localhost:8080/"
        },
        "outputId": "0bff73d1-24fa-4a57-f00b-0a2306f0829a"
      },
      "outputs": [
        {
          "output_type": "execute_result",
          "data": {
            "text/plain": [
              "True"
            ]
          },
          "metadata": {},
          "execution_count": 8
        }
      ],
      "source": [
        "def pooling_final(pooled_output):\n",
        "    a1=(pooled_output.sum(axis=0)==[30, 33, 36])\n",
        "    a2=(pooled_output.sum(axis=1)==[21, 33, 45])\n",
        "    assert(a1.all() and a2.all())\n",
        "    return True\n",
        "img=np.array([[1,2,3,4],[5,6,7,8],[9,10,11,12],[13,14,15,16]])\n",
        "pool_size=2\n",
        "stride=1\n",
        "pooled_output=(get_maxpools(img, pool_size, stride))\n",
        "pooling_final(pooled_output)"
      ]
    },
    {
      "cell_type": "code",
      "execution_count": null,
      "metadata": {
        "id": "i2r-ZzuvPsdF"
      },
      "outputs": [],
      "source": []
    }
  ],
  "metadata": {
    "kernelspec": {
      "display_name": "Python 3",
      "language": "python",
      "name": "python3"
    },
    "language_info": {
      "codemirror_mode": {
        "name": "ipython",
        "version": 3
      },
      "file_extension": ".py",
      "mimetype": "text/x-python",
      "name": "python",
      "nbconvert_exporter": "python",
      "pygments_lexer": "ipython3",
      "version": "3.6.3"
    },
    "colab": {
      "provenance": [],
      "collapsed_sections": []
    }
  },
  "nbformat": 4,
  "nbformat_minor": 0
}